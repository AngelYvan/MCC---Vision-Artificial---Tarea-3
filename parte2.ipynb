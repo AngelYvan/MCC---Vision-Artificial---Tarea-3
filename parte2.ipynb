{
 "cells": [
  {
   "cell_type": "code",
   "execution_count": null,
   "metadata": {},
   "outputs": [],
   "source": [
    "#Angel\n",
    "import cv2\n",
    "import numpy as np\n",
    "from matplotlib import pyplot as plt\n",
    "\n",
    "# Carga la imagen y la plantilla (template)\n",
    "img = cv2.imread('imagen.png', 0)\n",
    "template = cv2.imread('patron.png', 0)"
   ]
  }
 ],
 "metadata": {
  "language_info": {
   "name": "python"
  },
  "orig_nbformat": 4
 },
 "nbformat": 4,
 "nbformat_minor": 2
}
