{
 "cells": [
  {
   "cell_type": "code",
   "execution_count": null,
   "metadata": {},
   "outputs": [],
   "source": [
    "import cmath\n",
    "import numpy as np\n",
    "import cv2\n",
    "from skimage import io\n",
    "from google.colab.patches import cv2_imshow\n",
    "from PIL import Image\n",
    "from matplotlib import pyplot as plt"
   ]
  },
  {
   "cell_type": "code",
   "execution_count": null,
   "metadata": {},
   "outputs": [],
   "source": [
    "def dft(x):\n",
    "    \"\"\"Calcula la Transformada de Fourier discreta de x\"\"\"\n",
    "    N = len(x)\n",
    "    X = [0] * N\n",
    "    for k in range(N):\n",
    "        for n in range(N):\n",
    "            X[k] += x[n] * cmath.exp(-2j * cmath.pi * k * n / N)\n",
    "    return X\n",
    "\n",
    "# Señal de prueba\n",
    "x = [1, 2, 3, 4, 5, 6, 7, 8]\n",
    "\n",
    "# Transformada de Fourier\n",
    "X = dft(x)\n",
    "\n",
    "# Imprimir los resultados\n",
    "print(\"Señal de entrada: \", x)\n",
    "print(\"Transformada de Fourier: \", X)\n",
    "\n",
    "img = cv2.imread('/content/drive/MyDrive/Maestría en Ciencias de la Computación/Visión Artificial/animal.jpg', 0)\n",
    "cv2_imshow(img)\n",
    "print(img.shape)\n",
    "h, w = img.shape\n",
    "print('width:  ', w)\n",
    "print('height: ', h)\n",
    "resultado = []\n",
    "for fila in range(h):\n",
    "  resultado.append(dft(img[fila]))\n",
    "\n",
    "resultado = np.transpose(resultado)"
   ]
  }
 ],
 "metadata": {
  "language_info": {
   "name": "python"
  },
  "orig_nbformat": 4
 },
 "nbformat": 4,
 "nbformat_minor": 2
}
